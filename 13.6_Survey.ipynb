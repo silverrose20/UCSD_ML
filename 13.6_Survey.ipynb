{
 "cells": [
  {
   "cell_type": "markdown",
   "id": "8dd96a23",
   "metadata": {},
   "source": [
    "### The research paper referenced: \n",
    "#### Koch, Gregory et al. \"Siamese Neural Networks for One-shot Image Recognition\" "
   ]
  },
  {
   "cell_type": "markdown",
   "id": "ac6301fc",
   "metadata": {},
   "source": [
    "# Setup"
   ]
  },
  {
   "cell_type": "markdown",
   "id": "dcbffeb0",
   "metadata": {},
   "source": [
    "## Install and import dependencies"
   ]
  },
  {
   "cell_type": "code",
   "execution_count": 1,
   "id": "8114b11a",
   "metadata": {
    "collapsed": true
   },
   "outputs": [
    {
     "name": "stdout",
     "output_type": "stream",
     "text": [
      "Requirement already satisfied: tensorflow==2.10.0 in c:\\users\\suena\\anaconda3\\lib\\site-packages (2.10.0)\n",
      "Requirement already satisfied: opencv-python in c:\\users\\suena\\anaconda3\\lib\\site-packages (4.5.1.48)\n",
      "Requirement already satisfied: matplotlib in c:\\users\\suena\\anaconda3\\lib\\site-packages (3.5.2)\n",
      "Requirement already satisfied: google-pasta>=0.1.1 in c:\\users\\suena\\anaconda3\\lib\\site-packages (from tensorflow==2.10.0) (0.2.0)\n",
      "Requirement already satisfied: keras<2.11,>=2.10.0 in c:\\users\\suena\\anaconda3\\lib\\site-packages (from tensorflow==2.10.0) (2.10.0)\n",
      "Requirement already satisfied: flatbuffers>=2.0 in c:\\users\\suena\\anaconda3\\lib\\site-packages (from tensorflow==2.10.0) (22.10.26)\n",
      "Requirement already satisfied: packaging in c:\\users\\suena\\anaconda3\\lib\\site-packages (from tensorflow==2.10.0) (21.3)\n",
      "Requirement already satisfied: tensorflow-io-gcs-filesystem>=0.23.1 in c:\\users\\suena\\anaconda3\\lib\\site-packages (from tensorflow==2.10.0) (0.26.0)\n",
      "Requirement already satisfied: wrapt>=1.11.0 in c:\\users\\suena\\anaconda3\\lib\\site-packages (from tensorflow==2.10.0) (1.14.1)\n",
      "Requirement already satisfied: typing-extensions>=3.6.6 in c:\\users\\suena\\anaconda3\\lib\\site-packages (from tensorflow==2.10.0) (4.3.0)\n",
      "Requirement already satisfied: termcolor>=1.1.0 in c:\\users\\suena\\anaconda3\\lib\\site-packages (from tensorflow==2.10.0) (1.1.0)\n",
      "Requirement already satisfied: libclang>=13.0.0 in c:\\users\\suena\\anaconda3\\lib\\site-packages (from tensorflow==2.10.0) (14.0.6)\n",
      "Requirement already satisfied: opt-einsum>=2.3.2 in c:\\users\\suena\\anaconda3\\lib\\site-packages (from tensorflow==2.10.0) (3.3.0)\n",
      "Requirement already satisfied: tensorflow-estimator<2.11,>=2.10.0 in c:\\users\\suena\\anaconda3\\lib\\site-packages (from tensorflow==2.10.0) (2.10.0)\n",
      "Requirement already satisfied: six>=1.12.0 in c:\\users\\suena\\anaconda3\\lib\\site-packages (from tensorflow==2.10.0) (1.16.0)\n",
      "Requirement already satisfied: protobuf<3.20,>=3.9.2 in c:\\users\\suena\\anaconda3\\lib\\site-packages (from tensorflow==2.10.0) (3.14.0)\n",
      "Requirement already satisfied: absl-py>=1.0.0 in c:\\users\\suena\\anaconda3\\lib\\site-packages (from tensorflow==2.10.0) (1.2.0)\n",
      "Requirement already satisfied: keras-preprocessing>=1.1.1 in c:\\users\\suena\\anaconda3\\lib\\site-packages (from tensorflow==2.10.0) (1.1.2)\n",
      "Requirement already satisfied: astunparse>=1.6.0 in c:\\users\\suena\\anaconda3\\lib\\site-packages (from tensorflow==2.10.0) (1.6.3)\n",
      "Requirement already satisfied: gast<=0.4.0,>=0.2.1 in c:\\users\\suena\\anaconda3\\lib\\site-packages (from tensorflow==2.10.0) (0.3.3)\n",
      "Requirement already satisfied: h5py>=2.9.0 in c:\\users\\suena\\anaconda3\\lib\\site-packages (from tensorflow==2.10.0) (2.10.0)\n",
      "Requirement already satisfied: numpy>=1.20 in c:\\users\\suena\\anaconda3\\lib\\site-packages (from tensorflow==2.10.0) (1.21.6)\n",
      "Requirement already satisfied: grpcio<2.0,>=1.24.3 in c:\\users\\suena\\anaconda3\\lib\\site-packages (from tensorflow==2.10.0) (1.32.0)\n",
      "Requirement already satisfied: tensorboard<2.11,>=2.10 in c:\\users\\suena\\anaconda3\\lib\\site-packages (from tensorflow==2.10.0) (2.10.1)\n",
      "Requirement already satisfied: setuptools in c:\\users\\suena\\anaconda3\\lib\\site-packages (from tensorflow==2.10.0) (63.4.1)\n",
      "Requirement already satisfied: cycler>=0.10 in c:\\users\\suena\\anaconda3\\lib\\site-packages (from matplotlib) (0.11.0)\n",
      "Requirement already satisfied: pillow>=6.2.0 in c:\\users\\suena\\anaconda3\\lib\\site-packages (from matplotlib) (9.2.0)\n",
      "Requirement already satisfied: kiwisolver>=1.0.1 in c:\\users\\suena\\anaconda3\\lib\\site-packages (from matplotlib) (1.4.2)\n",
      "Requirement already satisfied: fonttools>=4.22.0 in c:\\users\\suena\\anaconda3\\lib\\site-packages (from matplotlib) (4.25.0)\n",
      "Requirement already satisfied: pyparsing>=2.2.1 in c:\\users\\suena\\anaconda3\\lib\\site-packages (from matplotlib) (3.0.9)\n",
      "Requirement already satisfied: python-dateutil>=2.7 in c:\\users\\suena\\anaconda3\\lib\\site-packages (from matplotlib) (2.8.2)\n",
      "Requirement already satisfied: wheel<1.0,>=0.23.0 in c:\\users\\suena\\anaconda3\\lib\\site-packages (from astunparse>=1.6.0->tensorflow==2.10.0) (0.37.1)\n",
      "Requirement already satisfied: werkzeug>=1.0.1 in c:\\users\\suena\\anaconda3\\lib\\site-packages (from tensorboard<2.11,>=2.10->tensorflow==2.10.0) (2.0.3)\n",
      "Requirement already satisfied: requests<3,>=2.21.0 in c:\\users\\suena\\anaconda3\\lib\\site-packages (from tensorboard<2.11,>=2.10->tensorflow==2.10.0) (2.28.1)\n",
      "Requirement already satisfied: google-auth<3,>=1.6.3 in c:\\users\\suena\\anaconda3\\lib\\site-packages (from tensorboard<2.11,>=2.10->tensorflow==2.10.0) (1.25.0)\n",
      "Requirement already satisfied: markdown>=2.6.8 in c:\\users\\suena\\anaconda3\\lib\\site-packages (from tensorboard<2.11,>=2.10->tensorflow==2.10.0) (3.3.3)\n",
      "Requirement already satisfied: tensorboard-data-server<0.7.0,>=0.6.0 in c:\\users\\suena\\anaconda3\\lib\\site-packages (from tensorboard<2.11,>=2.10->tensorflow==2.10.0) (0.6.1)\n",
      "Requirement already satisfied: tensorboard-plugin-wit>=1.6.0 in c:\\users\\suena\\anaconda3\\lib\\site-packages (from tensorboard<2.11,>=2.10->tensorflow==2.10.0) (1.8.0)\n",
      "Requirement already satisfied: google-auth-oauthlib<0.5,>=0.4.1 in c:\\users\\suena\\anaconda3\\lib\\site-packages (from tensorboard<2.11,>=2.10->tensorflow==2.10.0) (0.4.2)\n",
      "Requirement already satisfied: rsa<5,>=3.1.4 in c:\\users\\suena\\anaconda3\\lib\\site-packages (from google-auth<3,>=1.6.3->tensorboard<2.11,>=2.10->tensorflow==2.10.0) (4.7)\n",
      "Requirement already satisfied: pyasn1-modules>=0.2.1 in c:\\users\\suena\\anaconda3\\lib\\site-packages (from google-auth<3,>=1.6.3->tensorboard<2.11,>=2.10->tensorflow==2.10.0) (0.2.8)\n",
      "Requirement already satisfied: cachetools<5.0,>=2.0.0 in c:\\users\\suena\\anaconda3\\lib\\site-packages (from google-auth<3,>=1.6.3->tensorboard<2.11,>=2.10->tensorflow==2.10.0) (4.2.1)\n",
      "Requirement already satisfied: requests-oauthlib>=0.7.0 in c:\\users\\suena\\anaconda3\\lib\\site-packages (from google-auth-oauthlib<0.5,>=0.4.1->tensorboard<2.11,>=2.10->tensorflow==2.10.0) (1.3.0)\n",
      "Requirement already satisfied: urllib3<1.27,>=1.21.1 in c:\\users\\suena\\anaconda3\\lib\\site-packages (from requests<3,>=2.21.0->tensorboard<2.11,>=2.10->tensorflow==2.10.0) (1.26.11)\n",
      "Requirement already satisfied: idna<4,>=2.5 in c:\\users\\suena\\anaconda3\\lib\\site-packages (from requests<3,>=2.21.0->tensorboard<2.11,>=2.10->tensorflow==2.10.0) (3.3)\n",
      "Requirement already satisfied: certifi>=2017.4.17 in c:\\users\\suena\\anaconda3\\lib\\site-packages (from requests<3,>=2.21.0->tensorboard<2.11,>=2.10->tensorflow==2.10.0) (2022.9.14)\n",
      "Requirement already satisfied: charset-normalizer<3,>=2 in c:\\users\\suena\\anaconda3\\lib\\site-packages (from requests<3,>=2.21.0->tensorboard<2.11,>=2.10->tensorflow==2.10.0) (2.0.4)\n",
      "Requirement already satisfied: pyasn1<0.5.0,>=0.4.6 in c:\\users\\suena\\anaconda3\\lib\\site-packages (from pyasn1-modules>=0.2.1->google-auth<3,>=1.6.3->tensorboard<2.11,>=2.10->tensorflow==2.10.0) (0.4.8)\n",
      "Requirement already satisfied: oauthlib>=3.0.0 in c:\\users\\suena\\anaconda3\\lib\\site-packages (from requests-oauthlib>=0.7.0->google-auth-oauthlib<0.5,>=0.4.1->tensorboard<2.11,>=2.10->tensorflow==2.10.0) (3.1.0)\n"
     ]
    },
    {
     "name": "stderr",
     "output_type": "stream",
     "text": [
      "WARNING: Ignoring invalid distribution -atplotlib (c:\\users\\suena\\anaconda3\\lib\\site-packages)\n",
      "WARNING: Ignoring invalid distribution -atplotlib (c:\\users\\suena\\anaconda3\\lib\\site-packages)\n",
      "WARNING: Ignoring invalid distribution -atplotlib (c:\\users\\suena\\anaconda3\\lib\\site-packages)\n",
      "WARNING: Ignoring invalid distribution -atplotlib (c:\\users\\suena\\anaconda3\\lib\\site-packages)\n",
      "WARNING: Ignoring invalid distribution -atplotlib (c:\\users\\suena\\anaconda3\\lib\\site-packages)\n",
      "WARNING: Ignoring invalid distribution -atplotlib (c:\\users\\suena\\anaconda3\\lib\\site-packages)\n"
     ]
    }
   ],
   "source": [
    "!pip install tensorflow==2.10.0 opencv-python matplotlib"
   ]
  },
  {
   "cell_type": "markdown",
   "id": "e5a8940d",
   "metadata": {},
   "source": [
    "## Import Dependencies"
   ]
  },
  {
   "cell_type": "code",
   "execution_count": 1,
   "id": "2b54e759",
   "metadata": {},
   "outputs": [],
   "source": [
    "# Import standard dependencies\n",
    "import cv2\n",
    "import os\n",
    "import random\n",
    "import numpy as np\n",
    "from matplotlib import pyplot as plt"
   ]
  },
  {
   "cell_type": "code",
   "execution_count": 2,
   "id": "d3107fc9",
   "metadata": {},
   "outputs": [],
   "source": [
    "# Import tensorflow dependencies - Funtional API\n",
    "import tensorflow as tf\n",
    "from tensorflow.keras.models import Model\n",
    "from tensorflow.keras.layers import Layer, Conv2D, Dense, MaxPooling2D, Input, Flatten # Layer allows me to create a custom layer"
   ]
  },
  {
   "cell_type": "markdown",
   "id": "d24623f9",
   "metadata": {},
   "source": [
    "### * GPU not set up"
   ]
  },
  {
   "cell_type": "code",
   "execution_count": 3,
   "id": "2d260dfd",
   "metadata": {},
   "outputs": [],
   "source": [
    "# Path to the folders\n",
    "positive_path = os.path.join('data','positive')\n",
    "negative_path = os.path.join('data','negative')\n",
    "anchor_path = os.path.join('data','anchor')"
   ]
  },
  {
   "cell_type": "code",
   "execution_count": 11,
   "id": "05b3808c",
   "metadata": {},
   "outputs": [],
   "source": [
    "# Make directories -- already created -- uncomment later\n",
    "os.makedirs(positive_path)\n",
    "os.makedirs(negative_path)\n",
    "os.makedirs(anchor_path)"
   ]
  },
  {
   "cell_type": "markdown",
   "id": "ed4f42e3",
   "metadata": {},
   "source": [
    "## Load and preprocess images"
   ]
  },
  {
   "cell_type": "code",
   "execution_count": 4,
   "id": "7e180dec",
   "metadata": {},
   "outputs": [],
   "source": [
    "# shuffle=False to load the files in order\n",
    "anchor = tf.data.Dataset.list_files(anchor_path+'\\*.jpg', shuffle=False).take(950)\n",
    "positive = tf.data.Dataset.list_files(positive_path+'\\*.jpg', shuffle=False).take(950)\n",
    "negative = tf.data.Dataset.list_files(negative_path+'\\*.jpg').take(950)"
   ]
  },
  {
   "cell_type": "markdown",
   "id": "eac09471",
   "metadata": {},
   "source": [
    "## Preprocessig - scale & resize"
   ]
  },
  {
   "cell_type": "code",
   "execution_count": 5,
   "id": "78067bdf",
   "metadata": {},
   "outputs": [],
   "source": [
    "def preprocess(file_path):\n",
    "    # Read in image from file path\n",
    "    byte_img = tf.io.read_file(file_path)\n",
    "    # Load in the image\n",
    "    img = tf.io.decode_jpeg(byte_img)\n",
    "    # Preprocessing steps - resizing the image to be 105x105\n",
    "    img = tf.image.resize(img, (105,105))\n",
    "    # Scale image to be between 0 and 1\n",
    "    img = img / 255.0\n",
    "    \n",
    "    # Return iimage\n",
    "    return img"
   ]
  },
  {
   "cell_type": "markdown",
   "id": "3185286d",
   "metadata": {},
   "source": [
    "## Create labelled dataset"
   ]
  },
  {
   "cell_type": "code",
   "execution_count": 23,
   "id": "b032f130",
   "metadata": {},
   "outputs": [],
   "source": [
    "# (anchor, positive) => 1,1,1,1,1\n",
    "# (anchor, negative) => 0,0,0,0,0"
   ]
  },
  {
   "cell_type": "code",
   "execution_count": 6,
   "id": "d74af32d",
   "metadata": {},
   "outputs": [],
   "source": [
    "positives = tf.data.Dataset.zip((anchor, positive, tf.data.Dataset.from_tensor_slices(tf.ones(len(anchor)))))\n",
    "negatives = tf.data.Dataset.zip((anchor, negative, tf.data.Dataset.from_tensor_slices(tf.zeros(len(anchor)))))\n",
    "data = positives.concatenate(negatives)"
   ]
  },
  {
   "cell_type": "markdown",
   "id": "0d2238cd",
   "metadata": {},
   "source": [
    "## Build train and test partition"
   ]
  },
  {
   "cell_type": "code",
   "execution_count": 7,
   "id": "0ded2b16",
   "metadata": {},
   "outputs": [],
   "source": [
    "def preprocess_twin(input_img, validation_img, label):\n",
    "    return(preprocess(input_img), preprocess(validation_img), label)"
   ]
  },
  {
   "cell_type": "code",
   "execution_count": 8,
   "id": "15c3e8bb",
   "metadata": {},
   "outputs": [],
   "source": [
    "# Build dataloader pipeline\n",
    "data = data.map(preprocess_twin) # runs the preprocess_twin function\n",
    "data = data.cache()\n",
    "data = data.shuffle(buffer_size=1024) "
   ]
  },
  {
   "cell_type": "code",
   "execution_count": 9,
   "id": "bfb37fdb",
   "metadata": {},
   "outputs": [],
   "source": [
    "# Training partition\n",
    "train_data = data.take(round(len(data)*7))\n",
    "train_data = train_data.batch(10) \n",
    "train_data = train_data.prefetch(5) "
   ]
  },
  {
   "cell_type": "code",
   "execution_count": 10,
   "id": "d7d983f9",
   "metadata": {},
   "outputs": [],
   "source": [
    "# Testing partition\n",
    "test_data = data.skip(round(len(data)*.7))\n",
    "test_data = test_data.take(round(len(data)*.3))\n",
    "test_data = test_data.batch(10)\n",
    "test_data = test_data.prefetch(5)"
   ]
  },
  {
   "cell_type": "markdown",
   "id": "fc049325",
   "metadata": {},
   "source": [
    "# Model Engineering"
   ]
  },
  {
   "cell_type": "markdown",
   "id": "ee4e035d",
   "metadata": {},
   "source": [
    "## Build embedding layer"
   ]
  },
  {
   "cell_type": "code",
   "execution_count": 15,
   "id": "3cebba13",
   "metadata": {},
   "outputs": [],
   "source": [
    "def make_embedding():\n",
    "    inp = Input(shape=(105,105,3), name='input_image')\n",
    "    \n",
    "    # 1st block\n",
    "    c1 = Conv2D(64, (10,10), activation='relu')(inp)\n",
    "    m1 = MaxPooling2D(64, (2,2), padding='same')(c1)\n",
    "    \n",
    "    # 2nd block\n",
    "    c2 = Conv2D(128, (7,7), activation='relu')(m1)\n",
    "    m2 = MaxPooling2D(64, (2,2), padding='same')(c2)\n",
    "    \n",
    "    # 3rd block\n",
    "    c3 = Conv2D(128, (4,4), activation='relu')(m2)\n",
    "    m3 = MaxPooling2D(64, (2,2), padding='same')(c3)\n",
    "    \n",
    "    # 4th (final) block\n",
    "    c4 = Conv2D(256, (4,4), activation='relu')(m3)\n",
    "    f1 = Flatten()(c4)\n",
    "    d1 = Dense(4096, activation='sigmoid')(f1)\n",
    "    \n",
    "    return Model(inputs=[inp], outputs=[d1], name='embedding')"
   ]
  },
  {
   "cell_type": "code",
   "execution_count": 16,
   "id": "3ed692fc",
   "metadata": {
    "collapsed": true
   },
   "outputs": [
    {
     "name": "stdout",
     "output_type": "stream",
     "text": [
      "Model: \"embedding\"\n",
      "_________________________________________________________________\n",
      " Layer (type)                Output Shape              Param #   \n",
      "=================================================================\n",
      " input_image (InputLayer)    [(None, 105, 105, 3)]     0         \n",
      "                                                                 \n",
      " conv2d (Conv2D)             (None, 96, 96, 64)        19264     \n",
      "                                                                 \n",
      " max_pooling2d (MaxPooling2D  (None, 48, 48, 64)       0         \n",
      " )                                                               \n",
      "                                                                 \n",
      " conv2d_1 (Conv2D)           (None, 42, 42, 128)       401536    \n",
      "                                                                 \n",
      " max_pooling2d_1 (MaxPooling  (None, 21, 21, 128)      0         \n",
      " 2D)                                                             \n",
      "                                                                 \n",
      " conv2d_2 (Conv2D)           (None, 18, 18, 128)       262272    \n",
      "                                                                 \n",
      " max_pooling2d_2 (MaxPooling  (None, 9, 9, 128)        0         \n",
      " 2D)                                                             \n",
      "                                                                 \n",
      " conv2d_3 (Conv2D)           (None, 6, 6, 256)         524544    \n",
      "                                                                 \n",
      " flatten (Flatten)           (None, 9216)              0         \n",
      "                                                                 \n",
      " dense (Dense)               (None, 4096)              37752832  \n",
      "                                                                 \n",
      "=================================================================\n",
      "Total params: 38,960,448\n",
      "Trainable params: 38,960,448\n",
      "Non-trainable params: 0\n",
      "_________________________________________________________________\n"
     ]
    }
   ],
   "source": [
    "embedding = make_embedding()\n",
    "embedding.summary()"
   ]
  },
  {
   "cell_type": "markdown",
   "id": "7815f6b8",
   "metadata": {},
   "source": [
    "## Build distance layer"
   ]
  },
  {
   "cell_type": "code",
   "execution_count": 17,
   "id": "95be6d83",
   "metadata": {},
   "outputs": [],
   "source": [
    "# Create Siamese L1 distance class\n",
    "class L1Dist(Layer):\n",
    "    \n",
    "    # Init method - inheritance\n",
    "    def __init__(self, **kwargs):\n",
    "        super().__init__()\n",
    "    \n",
    "    # Magic happens here - similarity calculation\n",
    "    def call(self, input_embedding, validation_embedding):\n",
    "        return tf.math.abs(input_embedding - validation_embedding)"
   ]
  },
  {
   "cell_type": "code",
   "execution_count": 18,
   "id": "d9126d82",
   "metadata": {},
   "outputs": [],
   "source": [
    "l1 = L1Dist()"
   ]
  },
  {
   "cell_type": "code",
   "execution_count": 19,
   "id": "3a349da1",
   "metadata": {},
   "outputs": [
    {
     "data": {
      "text/plain": [
       "<__main__.L1Dist at 0x1ddc0ccf250>"
      ]
     },
     "execution_count": 19,
     "metadata": {},
     "output_type": "execute_result"
    }
   ],
   "source": [
    "l1"
   ]
  },
  {
   "cell_type": "markdown",
   "id": "7c1378c1",
   "metadata": {},
   "source": [
    "## Make siamese model"
   ]
  },
  {
   "cell_type": "code",
   "execution_count": 20,
   "id": "be041d84",
   "metadata": {},
   "outputs": [],
   "source": [
    "def make_siamese_model():\n",
    "    \n",
    "    # anchor impage input in the network\n",
    "    input_image = Input(name='input_img', shape=(105,105,3))\n",
    "    \n",
    "    # Validation image in the network\n",
    "    validation_image = Input(name='validation_img', shape=(105,105,3))\n",
    "    \n",
    "    # Combine siamese distance components\n",
    "    siamese_layer = L1Dist()\n",
    "    siamese_layer._name = 'distance'\n",
    "    distances = siamese_layer(embedding(input_image), embedding(validation_image))\n",
    "    \n",
    "    # Classification layer\n",
    "    classifier = Dense(1, activation='sigmoid')(distances)\n",
    "    \n",
    "    return Model(inputs=[input_image, validation_image], outputs=classifier, name='SiameseNetwork')\n"
   ]
  },
  {
   "cell_type": "code",
   "execution_count": 21,
   "id": "61c3e392",
   "metadata": {
    "collapsed": true
   },
   "outputs": [
    {
     "name": "stdout",
     "output_type": "stream",
     "text": [
      "Model: \"SiameseNetwork\"\n",
      "__________________________________________________________________________________________________\n",
      " Layer (type)                   Output Shape         Param #     Connected to                     \n",
      "==================================================================================================\n",
      " input_img (InputLayer)         [(None, 105, 105, 3  0           []                               \n",
      "                                )]                                                                \n",
      "                                                                                                  \n",
      " validation_img (InputLayer)    [(None, 105, 105, 3  0           []                               \n",
      "                                )]                                                                \n",
      "                                                                                                  \n",
      " embedding (Functional)         (None, 4096)         38960448    ['input_img[0][0]',              \n",
      "                                                                  'validation_img[0][0]']         \n",
      "                                                                                                  \n",
      " distance (L1Dist)              (None, 4096)         0           ['embedding[0][0]',              \n",
      "                                                                  'embedding[1][0]']              \n",
      "                                                                                                  \n",
      " dense_1 (Dense)                (None, 1)            4097        ['distance[0][0]']               \n",
      "                                                                                                  \n",
      "==================================================================================================\n",
      "Total params: 38,964,545\n",
      "Trainable params: 38,964,545\n",
      "Non-trainable params: 0\n",
      "__________________________________________________________________________________________________\n"
     ]
    }
   ],
   "source": [
    "siamese_model = make_siamese_model()\n",
    "siamese_model.summary()"
   ]
  },
  {
   "cell_type": "markdown",
   "id": "a0c64bac",
   "metadata": {},
   "source": [
    "# Training"
   ]
  },
  {
   "cell_type": "markdown",
   "id": "d6731c72",
   "metadata": {},
   "source": [
    "## Set up loss and optimizer"
   ]
  },
  {
   "cell_type": "code",
   "execution_count": 22,
   "id": "e1330e10",
   "metadata": {},
   "outputs": [],
   "source": [
    "binary_cross_loss = tf.losses.BinaryCrossentropy() ## can be ...Entrpy(from_logits=True) -- recommended when the inputs to the loss function are not normalized"
   ]
  },
  {
   "cell_type": "code",
   "execution_count": 23,
   "id": "7575c4f7",
   "metadata": {},
   "outputs": [],
   "source": [
    "opt = tf.keras.optimizers.Adam(1e-4) "
   ]
  },
  {
   "cell_type": "markdown",
   "id": "282a946a",
   "metadata": {},
   "source": [
    "## Establish checkpoints"
   ]
  },
  {
   "cell_type": "code",
   "execution_count": 24,
   "id": "c19e3b2c",
   "metadata": {},
   "outputs": [],
   "source": [
    "checkpoint_dir = './training_checkpoints'\n",
    "checkpoint_prefix = os.path.join(checkpoint_dir, 'ckpt')\n",
    "checkpoint = tf.train.Checkpoint(opt=opt, siamese_model=siamese_model)"
   ]
  },
  {
   "cell_type": "markdown",
   "id": "c0a83569",
   "metadata": {},
   "source": [
    "## Build train step function\n",
    "####    Basic flow for training on one batch is \n",
    "#####     1. Make a prediction\n",
    "#####     2. Calculate loss\n",
    "#####     3. Derive gradients\n",
    "#####     4. Calculate new weights and apply"
   ]
  },
  {
   "cell_type": "code",
   "execution_count": 25,
   "id": "7a3deb99",
   "metadata": {},
   "outputs": [],
   "source": [
    "@tf.function ## compiling what is happening in the def below\n",
    "def train_step(batch):\n",
    "    \n",
    "    # Record all of our operations\n",
    "    with tf.GradientTape() as tape: ##  record operations for automatic differentiation - get gradient\n",
    "        \n",
    "        # Get anchor and positive/negative image\n",
    "        X = batch[:2]\n",
    "        # Get label\n",
    "        y = batch[2]\n",
    "\n",
    "        # Forward pass\n",
    "        yhat = siamese_model(X, training=True)\n",
    "        # Calculate loss\n",
    "        loss = binary_cross_loss(y, yhat)\n",
    "    print(loss)\n",
    "        \n",
    "    # Calculate gradients\n",
    "    grad = tape.gradient(loss, siamese_model.trainable_variables)\n",
    "    \n",
    "    # Calculate updated weights and apply to siamese model\n",
    "    opt.apply_gradients(zip(grad, siamese_model.trainable_variables))\n",
    "    \n",
    "    # Return loss\n",
    "    return loss"
   ]
  },
  {
   "cell_type": "markdown",
   "id": "b658f92c",
   "metadata": {},
   "source": [
    "## Build training loop"
   ]
  },
  {
   "cell_type": "code",
   "execution_count": 26,
   "id": "027c2d11",
   "metadata": {},
   "outputs": [],
   "source": [
    "def train(data, EPOCHS):\n",
    "    # Loop through epochs\n",
    "    for epoch in range(1, EPOCHS+1):\n",
    "        print('\\n Epoch {}/{}'.format(epoch, EPOCHS))\n",
    "        progbar = tf.keras.utils.Progbar(len(data))\n",
    "    \n",
    "        # Loop through each batch\n",
    "        for idx, batch in enumerate(data):\n",
    "            # Run train step here\n",
    "            train_step(batch)\n",
    "            progbar.update(idx+1)\n",
    "        \n",
    "        # Save checkpoints\n",
    "        if epoch % 10 == 0:\n",
    "            checkpoint.save(file_prefix=checkpoint_prefix)"
   ]
  },
  {
   "cell_type": "markdown",
   "id": "b8fd2c2e",
   "metadata": {},
   "source": [
    "## Train the model"
   ]
  },
  {
   "cell_type": "code",
   "execution_count": 27,
   "id": "8e3155d8",
   "metadata": {},
   "outputs": [],
   "source": [
    "EPOCHS = 20"
   ]
  },
  {
   "cell_type": "code",
   "execution_count": 28,
   "id": "5ec87c36",
   "metadata": {},
   "outputs": [
    {
     "name": "stdout",
     "output_type": "stream",
     "text": [
      "\n",
      " Epoch 1/20\n",
      "Tensor(\"binary_crossentropy/weighted_loss/value:0\", shape=(), dtype=float32)\n",
      "Tensor(\"binary_crossentropy/weighted_loss/value:0\", shape=(), dtype=float32)\n",
      "190/190 [==============================] - 1939s 10s/step\n",
      "\n",
      " Epoch 2/20\n",
      "190/190 [==============================] - 1976s 10s/step\n",
      "\n",
      " Epoch 3/20\n",
      "190/190 [==============================] - 1995s 11s/step\n",
      "\n",
      " Epoch 4/20\n",
      "190/190 [==============================] - 1960s 10s/step\n",
      "\n",
      " Epoch 5/20\n",
      "190/190 [==============================] - 1961s 10s/step\n",
      "\n",
      " Epoch 6/20\n",
      "190/190 [==============================] - 2062s 11s/step\n",
      "\n",
      " Epoch 7/20\n",
      "190/190 [==============================] - 2075s 11s/step\n",
      "\n",
      " Epoch 8/20\n",
      "190/190 [==============================] - 2072s 11s/step\n",
      "\n",
      " Epoch 9/20\n",
      "190/190 [==============================] - 2077s 11s/step\n",
      "\n",
      " Epoch 10/20\n",
      "190/190 [==============================] - 2078s 11s/step\n",
      "\n",
      " Epoch 11/20\n",
      "190/190 [==============================] - 2085s 11s/step\n",
      "\n",
      " Epoch 12/20\n",
      "190/190 [==============================] - 1994s 10s/step\n",
      "\n",
      " Epoch 13/20\n",
      "190/190 [==============================] - 2118s 11s/step\n",
      "\n",
      " Epoch 14/20\n",
      "190/190 [==============================] - 2103s 11s/step\n",
      "\n",
      " Epoch 15/20\n",
      "190/190 [==============================] - 2086s 11s/step\n",
      "\n",
      " Epoch 16/20\n",
      "190/190 [==============================] - 2080s 11s/step\n",
      "\n",
      " Epoch 17/20\n",
      "190/190 [==============================] - 2079s 11s/step\n",
      "\n",
      " Epoch 18/20\n",
      "190/190 [==============================] - 2073s 11s/step\n",
      "\n",
      " Epoch 19/20\n",
      "190/190 [==============================] - 2065s 11s/step\n",
      "\n",
      " Epoch 20/20\n",
      "190/190 [==============================] - 2068s 11s/step\n"
     ]
    }
   ],
   "source": [
    "train(train_data, EPOCHS)"
   ]
  },
  {
   "cell_type": "markdown",
   "id": "90cba210",
   "metadata": {},
   "source": [
    "# Evaluate Model"
   ]
  },
  {
   "cell_type": "markdown",
   "id": "264ae096",
   "metadata": {},
   "source": [
    "## Import metrics"
   ]
  },
  {
   "cell_type": "code",
   "execution_count": 34,
   "id": "a2e568ec",
   "metadata": {},
   "outputs": [],
   "source": [
    "# Iport metric dalculations\n",
    "from tensorflow.keras.metrics import Precision, Recall"
   ]
  },
  {
   "cell_type": "markdown",
   "id": "f8351c3c",
   "metadata": {},
   "source": [
    "## Make predictions"
   ]
  },
  {
   "cell_type": "code",
   "execution_count": 37,
   "id": "11d6d8bd",
   "metadata": {},
   "outputs": [],
   "source": [
    "# Get a batch of test data\n",
    "test_input, test_val, y_true = test_data.as_numpy_iterator().next()"
   ]
  },
  {
   "cell_type": "code",
   "execution_count": 38,
   "id": "641d9d15",
   "metadata": {},
   "outputs": [
    {
     "name": "stdout",
     "output_type": "stream",
     "text": [
      "1/1 [==============================] - 5s 5s/step\n"
     ]
    },
    {
     "data": {
      "text/plain": [
       "array([[9.9128622e-05],\n",
       "       [6.3481480e-01],\n",
       "       [4.5719122e-07],\n",
       "       [1.1853104e-01],\n",
       "       [8.7134123e-01],\n",
       "       [8.9921938e-05],\n",
       "       [2.8194563e-04],\n",
       "       [7.2599214e-01],\n",
       "       [1.0068423e-04],\n",
       "       [6.9507897e-01]], dtype=float32)"
      ]
     },
     "execution_count": 38,
     "metadata": {},
     "output_type": "execute_result"
    }
   ],
   "source": [
    "# Make predictions\n",
    "y_hat = siamese_model.predict([test_input, test_val])\n",
    "y_hat"
   ]
  },
  {
   "cell_type": "code",
   "execution_count": 39,
   "id": "14ee9920",
   "metadata": {},
   "outputs": [
    {
     "data": {
      "text/plain": [
       "[0, 1, 0, 0, 1, 0, 0, 1, 0, 1]"
      ]
     },
     "execution_count": 39,
     "metadata": {},
     "output_type": "execute_result"
    }
   ],
   "source": [
    "# Post processing the results\n",
    "[1 if prediction > 0.5 else 0 for prediction in y_hat]"
   ]
  },
  {
   "cell_type": "code",
   "execution_count": 40,
   "id": "f4d38598",
   "metadata": {},
   "outputs": [
    {
     "data": {
      "text/plain": [
       "array([0., 1., 0., 1., 1., 0., 0., 1., 0., 1.], dtype=float32)"
      ]
     },
     "execution_count": 40,
     "metadata": {},
     "output_type": "execute_result"
    }
   ],
   "source": [
    "y_true"
   ]
  },
  {
   "cell_type": "markdown",
   "id": "7697e05b",
   "metadata": {},
   "source": [
    "## Calculate metrics"
   ]
  },
  {
   "cell_type": "code",
   "execution_count": 41,
   "id": "2352a9a4",
   "metadata": {},
   "outputs": [
    {
     "data": {
      "text/plain": [
       "0.8"
      ]
     },
     "execution_count": 41,
     "metadata": {},
     "output_type": "execute_result"
    }
   ],
   "source": [
    "# Creating a metric object\n",
    "m = Recall()\n",
    "\n",
    "# Calculating the recall value\n",
    "m.update_state(y_true,y_hat)\n",
    "\n",
    "# Return recall result\n",
    "m.result().numpy()"
   ]
  },
  {
   "cell_type": "code",
   "execution_count": 42,
   "id": "055412b6",
   "metadata": {},
   "outputs": [
    {
     "data": {
      "text/plain": [
       "1.0"
      ]
     },
     "execution_count": 42,
     "metadata": {},
     "output_type": "execute_result"
    }
   ],
   "source": [
    "m = Precision()\n",
    "m.update_state(y_true, y_hat)\n",
    "m.result().numpy()"
   ]
  },
  {
   "cell_type": "markdown",
   "id": "02ed755e",
   "metadata": {},
   "source": [
    "## Visualize results"
   ]
  },
  {
   "cell_type": "code",
   "execution_count": 48,
   "id": "13278f17",
   "metadata": {},
   "outputs": [
    {
     "data": {
      "image/png": "[encoded data removed]",
      "text/plain": [
       "<Figure size 1400x600 with 2 Axes>"
      ]
     },
     "metadata": {},
     "output_type": "display_data"
    }
   ],
   "source": [
    "# Set plot size\n",
    "plt.figure(figsize=(14,6))\n",
    "\n",
    "# Set first subplot\n",
    "plt.subplot(1,2,1) ## 1 row, 2 columns, 1st image\n",
    "plt.imshow(test_input[0])\n",
    "\n",
    "# Set second subplot\n",
    "plt.subplot(1,2,2) ## 1 row, 2 columns, 2nd image\n",
    "plt.imshow(test_val[0])\n",
    "plt.show()"
   ]
  }
 ],
 "metadata": {
  "kernelspec": {
   "display_name": "Python 3 (ipykernel)",
   "language": "python",
   "name": "python3"
  },
  "language_info": {
   "codemirror_mode": {
    "name": "ipython",
    "version": 3
   },
   "file_extension": ".py",
   "mimetype": "text/x-python",
   "name": "python",
   "nbconvert_exporter": "python",
   "pygments_lexer": "ipython3",
   "version": "3.8.5"
  }
 },
 "nbformat": 4,
 "nbformat_minor": 5
}
